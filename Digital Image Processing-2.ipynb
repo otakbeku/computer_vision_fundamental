{
 "cells": [
  {
   "cell_type": "markdown",
   "metadata": {},
   "source": [
    "# *Interest Point: Detect, Extract, Describe and Matching* bagian 1\n",
    "\n",
    "Pada pembahasan yang pertama ini, saya akan coba mengimplementasikan beberapa metode *interest point* yang yang tersedia ari OpenCV. Beberapa metode ini sudah dipatenkan sehingga untuk dapat menggunakan metode ini, pastikan kalian sudah menginstall opencv-contrib dari link [berikut](https://www.scivision.co/install-opencv-python-windows/)"
   ]
  },
  {
   "cell_type": "code",
   "execution_count": null,
   "metadata": {
    "collapsed": true
   },
   "outputs": [],
   "source": []
  }
 ],
 "metadata": {
  "kernelspec": {
   "display_name": "Python 3",
   "language": "python",
   "name": "python3"
  },
  "language_info": {
   "codemirror_mode": {
    "name": "ipython",
    "version": 3
   },
   "file_extension": ".py",
   "mimetype": "text/x-python",
   "name": "python",
   "nbconvert_exporter": "python",
   "pygments_lexer": "ipython3",
   "version": "3.5.4"
  }
 },
 "nbformat": 4,
 "nbformat_minor": 2
}
